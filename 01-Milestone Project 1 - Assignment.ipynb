{
 "cells": [
  {
   "cell_type": "markdown",
   "metadata": {},
   "source": [
    "___\n",
    "\n",
    "<a href='https://www.udemy.com/user/joseportilla/'><img src='../Pierian_Data_Logo.png'/></a>\n",
    "___\n",
    "<center><em>Content Copyright by Pierian Data</em></center>"
   ]
  },
  {
   "cell_type": "markdown",
   "metadata": {},
   "source": [
    "# Milestone Project 1\n",
    "## Congratulations on making it to your first milestone!\n",
    "You've already learned a ton and are ready to work on a real project.\n",
    "\n",
    "Your assignment: Create a Tic Tac Toe game. You are free to use any IDE you like.\n",
    "\n",
    "Here are the requirements:\n",
    "\n",
    "* 2 players should be able to play the game (both sitting at the same computer)\n",
    "* The board should be printed out every time a player makes a move\n",
    "* You should be able to accept input of the player position and then place a symbol on the board\n",
    "\n",
    "Feel free to use Google to help you figure anything out (but don't just Google \"Tic Tac Toe in Python\" otherwise you won't learn anything!) Keep in mind that this project can take anywhere between several hours to several days.\n",
    "\n",
    "There are 4 Jupyter Notebooks related to this assignment:\n",
    "\n",
    "* This Assignment Notebook\n",
    "* A \"Walkthrough Steps Workbook\" Notebook\n",
    "* A \"Complete Walkthrough Solution\" Notebook\n",
    "* An \"Advanced Solution\" Notebook\n",
    "\n",
    "I encourage you to just try to start the project on your own without referencing any of the notebooks. If you get stuck, check out the next lecture which is a text lecture with helpful hints and steps. If you're still stuck after that, then check out the Walkthrough Steps Workbook, which breaks up the project in steps for you to solve. Still stuck? Then check out the Complete Walkthrough Solution video for more help on approaching the project!"
   ]
  },
  {
   "cell_type": "markdown",
   "metadata": {},
   "source": [
    "There are parts of this that will be a struggle...and that is good! I have complete faith that if you have made it this far through the course you have all the tools and knowledge to tackle this project. Remember, it's totally open book, so take your time, do a little research, and remember:\n",
    "\n",
    "## HAVE FUN!"
   ]
  },
  {
   "cell_type": "code",
   "execution_count": 1,
   "metadata": {},
   "outputs": [],
   "source": [
    "from IPython.display import clear_output\n",
    "clear_output()\n",
    "\n",
    "a = [' ',' ',' ',' ',' ',' ',' ',' ',' ']\n",
    "\n",
    "def game_reset():\n",
    "    for x in range(0,9):\n",
    "            a[x] = ' '\n",
    "    pass  \n",
    "\n",
    "def game_map():    \n",
    "    print(f' {a[6]} | {a[7]} | {a[8]} \\n---+---+---\\n {a[3]} | {a[4]} | {a[5]} \\n---+---+---\\n {a[0]} | {a[1]} | {a[2]} ')\n",
    "    pass"
   ]
  },
  {
   "cell_type": "code",
   "execution_count": 2,
   "metadata": {
    "scrolled": true
   },
   "outputs": [],
   "source": [
    "def game_input():\n",
    "    \n",
    "    result = 'temp'\n",
    "    acceptable_values = [1,2,3,4,5,6,7,8,9]\n",
    "    \n",
    "    while result.isdigit() == False or int(result) not in acceptable_values or a[int(result)-1] != ' ':\n",
    "        \n",
    "        result = input('Choose your position on the numpad: ')\n",
    "        \n",
    "        if result.isdigit() == False or int(result) not in acceptable_values or a[int(result)-1] != ' ':\n",
    "            clear_output()\n",
    "            print('Sorry! Your input is incorrect :( ')\n",
    "            game_map()\n",
    "    result = int(result)\n",
    "        \n",
    "    return result"
   ]
  },
  {
   "cell_type": "code",
   "execution_count": 3,
   "metadata": {},
   "outputs": [],
   "source": [
    "def game_outcome(choice1,choice2):\n",
    "    if a[0]==a[3]==a[6]== choice1 or a[6]==a[7]==a[8]== choice1 or a[8]==a[5]==a[2]== choice1 or a[2]==a[1]==a[0]== choice1 or a[0]==a[4]==a[8]== choice1 or a[6]==a[4]==a[2]== choice1:\n",
    "        clear_output()\n",
    "        print('Congratulations!! Player 1 wins :D')\n",
    "        game_map()\n",
    "        return True\n",
    "    elif a[0]==a[3]==a[6]== choice2 or a[6]==a[7]==a[8]== choice2 or a[8]==a[5]==a[2]== choice2 or a[2]==a[1]==a[0]== choice2 or a[0]==a[4]==a[8]== choice2 or a[6]==a[4]==a[2]== choice2:\n",
    "        clear_output()\n",
    "        print('Congratulations!! Player 2 wins :D')\n",
    "        game_map()\n",
    "        return True\n",
    "    elif a[0] != ' ' and a[1] != ' ' and a[2] != ' ' and a[3] != ' ' and a[4] != ' ' and a[5] != ' ' and a[6] != ' ' and a[7] != ' ' and a[8] != ' ':\n",
    "        clear_output()\n",
    "        print(\"DRAW!! Everyone's a winner? :| \")\n",
    "        game_map()\n",
    "        return True\n",
    "    else:\n",
    "        return False"
   ]
  },
  {
   "cell_type": "code",
   "execution_count": 4,
   "metadata": {},
   "outputs": [],
   "source": [
    "def player1_choice():\n",
    "    choice1 = 'wrong'\n",
    "    choice2 = 'O'\n",
    "    acceptable1 = ['X','O']\n",
    "    \n",
    "    while choice1.capitalize() not in acceptable1:\n",
    "        choice1 = input('Player 1, choose either X or O: ').capitalize()\n",
    "        if choice1 not in acceptable1:\n",
    "            clear_output()\n",
    "            print('Sorry! Your input is incorrect :( ')\n",
    "    \n",
    "    if choice1 == 'O':\n",
    "        choice2 = 'X'\n",
    "    else:\n",
    "        pass \n",
    "    \n",
    "    return choice1,choice2\n",
    "          "
   ]
  },
  {
   "cell_type": "code",
   "execution_count": 5,
   "metadata": {},
   "outputs": [],
   "source": [
    "def game_play2(choice1,choice2):\n",
    "    if a.count(choice1) == a.count(choice2):\n",
    "        clear_output()\n",
    "        print(\"Player 1 turn!\")\n",
    "        game_map()\n",
    "        a[game_input()-1] = choice1\n",
    "    else:\n",
    "        clear_output()\n",
    "        print(\"Player 2 turn!\")\n",
    "        game_map()\n",
    "        a[game_input()-1] = choice2\n",
    "        \n",
    "    pass         "
   ]
  },
  {
   "cell_type": "code",
   "execution_count": 6,
   "metadata": {},
   "outputs": [],
   "source": [
    "def game_on():\n",
    "    result = 'temp'\n",
    "    acceptable_values = ['Y','N']\n",
    "    while result not in acceptable_values:\n",
    "        result = input('Would you like a rematch? Y / N ?: ')\n",
    "        if result not in acceptable_values:\n",
    "            clear_output()\n",
    "            print('Sorry! Your input is incorrect :( ')\n",
    "            game_map()\n",
    "    \n",
    "    return result"
   ]
  },
  {
   "cell_type": "code",
   "execution_count": 7,
   "metadata": {},
   "outputs": [],
   "source": [
    "def tictactoe():\n",
    "    gameon = 'Y'\n",
    "    decision = player1_choice()\n",
    "    while gameon == 'Y':\n",
    "        while game_outcome(*decision) == False:         \n",
    "            game_play2(*decision)\n",
    "            \n",
    "        game_outcome(*decision)\n",
    "        gameon = game_on()\n",
    "        game_reset()\n",
    "        \n",
    "    print('Goodbye!! Thanks for playing :)')"
   ]
  },
  {
   "cell_type": "code",
   "execution_count": 8,
   "metadata": {},
   "outputs": [
    {
     "name": "stdout",
     "output_type": "stream",
     "text": [
      "Congratulations!! Player 1 wins :D\n",
      " X | O | O \n",
      "---+---+---\n",
      " X | X | O \n",
      "---+---+---\n",
      "   |   | X \n",
      "Would you like a rematch? Y / N ?: N\n",
      "Goodbye!! Thanks for playing :)\n"
     ]
    }
   ],
   "source": [
    "tictactoe()"
   ]
  },
  {
   "cell_type": "code",
   "execution_count": null,
   "metadata": {},
   "outputs": [],
   "source": []
  }
 ],
 "metadata": {
  "kernelspec": {
   "display_name": "Python 3 (ipykernel)",
   "language": "python",
   "name": "python3"
  },
  "language_info": {
   "codemirror_mode": {
    "name": "ipython",
    "version": 3
   },
   "file_extension": ".py",
   "mimetype": "text/x-python",
   "name": "python",
   "nbconvert_exporter": "python",
   "pygments_lexer": "ipython3",
   "version": "3.9.12"
  }
 },
 "nbformat": 4,
 "nbformat_minor": 1
}
